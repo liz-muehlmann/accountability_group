{
 "cells": [
  {
   "cell_type": "markdown",
   "metadata": {},
   "source": [
    "# Udemy: Statistics for Data Analysis Using Python"
   ]
  },
  {
   "cell_type": "markdown",
   "metadata": {},
   "source": [
    "## Section 1"
   ]
  },
  {
   "cell_type": "markdown",
   "metadata": {},
   "source": [
    "### Basic Mathematical Functions\n",
    "import module-name  \n",
    "module.function \n",
    "* e.g. math.comb\n",
    "    * comb = combination\n",
    "    * math.comb(5,3) = 10\n",
    "        * number of ways to choose 3 items from 5 without repetition and without order\n",
    "* e.g. math.perm\n",
    "    * perm = permutation\n",
    "    * math.com(5,3) = 60\n",
    "        * number of ways to choose 3 items from 5 without repetition and with order"
   ]
  },
  {
   "cell_type": "code",
   "execution_count": 34,
   "metadata": {},
   "outputs": [
    {
     "data": {
      "text/plain": [
       "10"
      ]
     },
     "execution_count": 34,
     "metadata": {},
     "output_type": "execute_result"
    }
   ],
   "source": [
    "import math\n",
    "math.pow(5,2) # five to the power of two\n",
    "math.sqrt(25) # square root of 25\n",
    "math.factorial(5) # 5x4x3x2x1 = factorial\n",
    "math.comb(5,3) # number of ways to choose 3 items from 5 without repetition and without order"
   ]
  },
  {
   "cell_type": "markdown",
   "metadata": {},
   "source": [
    "### Variables\n",
    "* don't used reserved words for variable names\n",
    "    * e.g., avoid using print as a variable\n",
    "* variable-name = value\n",
    "* type: tells us the type of variable it is.\n",
    "    * int = integer = whole number\n",
    "    * float = decimal\n",
    "    * str = string = text\n",
    "        * if you want to have quotations within the string then you can surround it with double quotes (e.g. \"Liz's School\")"
   ]
  },
  {
   "cell_type": "code",
   "execution_count": 35,
   "metadata": {},
   "outputs": [
    {
     "data": {
      "text/plain": [
       "str"
      ]
     },
     "execution_count": 35,
     "metadata": {},
     "output_type": "execute_result"
    }
   ],
   "source": [
    "## variables\n",
    "a = 2 # define variable\n",
    "b = 3 \n",
    "a+b \n",
    "\n",
    "type(a) # find the type of variable of a \n",
    "\n",
    "\n",
    "Elizabeth = \"zabes\"\n",
    "type(Elizabeth)"
   ]
  },
  {
   "cell_type": "markdown",
   "metadata": {},
   "source": [
    "### Lists\n",
    "* created by placing multiple values within square brackets\n",
    "    * e.g. a = [1, 2, 3]\n",
    "    * can include mixed data types\n",
    "    * can also include other lists\n",
    "\n",
    "* can pull out items from a list using index\n",
    "    * python lists are 0 indexed. \n",
    "    * first item is 0\n",
    "    * a[0:2] first number is INCLUDED, second number is EXCLUDED\n",
    "    * -1 will return the last item\n",
    "    * can use two indices to read from nested lists.\n",
    "\n",
    "* To replace a value, use the index location and then set it using an equal sign\n",
    "* To add a new value use .append(value-to-append)\n",
    "* To remove the last item use .pop (default is last item)\n",
    "    * use index number inside the parenthesis to remove that item.\n",
    "\n",
    "* .count will return the number of elements in the list.\n",
    "\n",
    "* determine if a value is in a list by using the *in* operator\n",
    "* range(include, exclude, by)"
   ]
  },
  {
   "cell_type": "code",
   "execution_count": 36,
   "metadata": {},
   "outputs": [
    {
     "name": "stdout",
     "output_type": "stream",
     "text": [
      "[1, 2, 3]\n",
      "[1, 'Liz', 'Abed']\n",
      "[[1, 2, 3], ['good', 'better', 'best']]\n",
      "[10, 2, 3]\n",
      "[10, 2, 3, 'new']\n",
      "[10, 2, 3]\n",
      "new\n"
     ]
    },
    {
     "data": {
      "text/plain": [
       "[5, 10, 15, 20, 25, 30, 35, 40, 45, 50, 55, 60, 65, 70, 75, 80, 85, 90, 95]"
      ]
     },
     "execution_count": 36,
     "metadata": {},
     "output_type": "execute_result"
    }
   ],
   "source": [
    "## Lists\n",
    "a = [1, 2, 3]\n",
    "print(a)\n",
    "type(a)\n",
    "\n",
    "mixed_list = [1, \"Liz\", 'Abed']\n",
    "print(mixed_list)\n",
    "type(mixed_list)\n",
    "\n",
    "List_List = [[1,2,3], [\"good\", \"better\", \"best\"]]\n",
    "print(List_List)\n",
    "\n",
    "List_List[1] # return second item\n",
    "mixed_list[0:2] # include item 1, exclude item 3\n",
    "mixed_list[-1] # will return last item in list\n",
    "List_List[1][1] # select the second list, second item\n",
    "\n",
    "a[0] = 10 # change first number in list to 10\n",
    "print(a)\n",
    "\n",
    "a.append(\"new\") # add new value to a list.\n",
    "print(a)\n",
    "\n",
    "b = a.pop() # remove the last number\n",
    "print(a)\n",
    "print(b)\n",
    "\n",
    "a.pop(0) # pop out / remove the first value.\n",
    "a.count(2) # count how many 2s are in this list\n",
    "\n",
    "mylist = list(range(5)) # can a list from a range object\n",
    "\n",
    "20 in mylist # is 20 in mylist \n",
    "\n",
    "my_list = list(range(5,100,5)) # count up by fives; including 5, excluding 100\n",
    "my_list"
   ]
  },
  {
   "cell_type": "markdown",
   "metadata": {},
   "source": [
    "### Dictionaries\n",
    "\n",
    "* form of data structure\n",
    "    * List, Dictionary, Tuple, or Set\n",
    "\n",
    "* dictionaries use key:value pairs\n",
    "    * e.g. my_dict = {'key1':'value1', 'key2':'value2'}\n",
    "    * Can search for specific key using square brackets\n",
    "        * new_dict[\"key to search for\"]\n",
    "    * Dictionaries *do not* have a sequence, you have to know the key that you're looking for.\n",
    "    * can view all keys using dictionary_name.keys\n",
    "    * can use my_dict.items() to get values. But they won't be sequenced!!\n",
    "    * to pop something, you have to give it the key"
   ]
  },
  {
   "cell_type": "code",
   "execution_count": 37,
   "metadata": {},
   "outputs": [
    {
     "data": {
      "text/plain": [
       "{'Day': 'Tuesday'}"
      ]
     },
     "execution_count": 37,
     "metadata": {},
     "output_type": "execute_result"
    }
   ],
   "source": [
    "## Dictionaries\n",
    "\n",
    "new_dict = {\"Country\":\"United States\", \"Day\":\"Tuesday\"} # create dictionary\n",
    "new_dict[\"Country\"] # search for specific key\n",
    "new_dict.keys() # view all keys\n",
    "new_dict.items() # view all items\n",
    "new_dict.pop(\"Country\") # pop using a key and will remove the key:value pair\n",
    "new_dict"
   ]
  },
  {
   "cell_type": "markdown",
   "metadata": {},
   "source": [
    "### Tuples\n",
    "* Tuples use ()\n",
    "* can use indexing with square brackets\n",
    "* immutable; can't change values inside tuples.\n",
    "    * Can't add, append, or modify it in anyway."
   ]
  },
  {
   "cell_type": "code",
   "execution_count": 38,
   "metadata": {},
   "outputs": [
    {
     "data": {
      "text/plain": [
       "1"
      ]
     },
     "execution_count": 38,
     "metadata": {},
     "output_type": "execute_result"
    }
   ],
   "source": [
    "## Tuples\n",
    "\n",
    "a_tuple = (1,2,3) # define a tuple\n",
    "type(a_tuple) \n",
    "a_tuple[0] # get the value in tuple position "
   ]
  },
  {
   "cell_type": "markdown",
   "metadata": {},
   "source": [
    "### Sets\n",
    "* uses curly braces\n",
    "* unordered and unique elements only"
   ]
  },
  {
   "cell_type": "code",
   "execution_count": 39,
   "metadata": {},
   "outputs": [
    {
     "data": {
      "text/plain": [
       "{1, 2, 3, 4}"
      ]
     },
     "execution_count": 39,
     "metadata": {},
     "output_type": "execute_result"
    }
   ],
   "source": [
    "## sets\n",
    "\n",
    "a_set = {1,2,3,4}\n",
    "type(a_set)\n",
    "b_set = {1,1,2,3,4,1,2}\n",
    "b_set # will only show the unique values!"
   ]
  },
  {
   "cell_type": "markdown",
   "metadata": {},
   "source": [
    "### Logical Operators\n",
    "* == strict equality\n",
    "* != not equal\n",
    "* \\> greater than\n",
    "* < less than\n",
    "* \\>= greater than or equal\n",
    "* <= less than or equal"
   ]
  },
  {
   "cell_type": "markdown",
   "metadata": {},
   "source": [
    "## Section 2: Basic Statistics"
   ]
  },
  {
   "cell_type": "markdown",
   "metadata": {},
   "source": [
    "### Central Tendency\n",
    "* Descriptive\n",
    "    * Helps us to understand the data we have. \n",
    "    * Measurement of Central Tendency (average)\n",
    "        * Mean, Median, Mode\n",
    "    * Measurement of Dispersion (how spread out the data is)\n",
    "        * Range, Standard Deviation, Variance, Inter-Quartile Range\n",
    "    * Mean\n",
    "        * Average\n",
    "        * Mean of 104, 98, 90, 104, 104\n",
    "            * add the numbers, divide by the number of items\n",
    "        * (104+98+90+104+104)/5 = 100\n",
    "        * $\\bar{x}$ = $\\frac{\\sum x}{n}$\n",
    "        * affected by extreme values.\n",
    "            * eg. if one value was 1,040 it will affect the overall average. \n",
    "    \n",
    "    * Median\n",
    "        * Middle value when organized increasing or decreasing value\n",
    "        * median of 104, 98, 90, 104, 104\n",
    "        * 90, 98, **104**, 104, 104\n",
    "        * not affected by extreme values.\n",
    "\n",
    "* Inferential (Hypothesis Testing)\n",
    "    * predicting \n",
    "    * based on the sample we have we infer other things\n"
   ]
  },
  {
   "cell_type": "code",
   "execution_count": 40,
   "metadata": {},
   "outputs": [],
   "source": [
    "## central tendency\n",
    "\n"
   ]
  }
 ],
 "metadata": {
  "kernelspec": {
   "display_name": "Python 3",
   "language": "python",
   "name": "python3"
  },
  "language_info": {
   "codemirror_mode": {
    "name": "ipython",
    "version": 3
   },
   "file_extension": ".py",
   "mimetype": "text/x-python",
   "name": "python",
   "nbconvert_exporter": "python",
   "pygments_lexer": "ipython3",
   "version": "3.11.3"
  },
  "orig_nbformat": 4
 },
 "nbformat": 4,
 "nbformat_minor": 2
}

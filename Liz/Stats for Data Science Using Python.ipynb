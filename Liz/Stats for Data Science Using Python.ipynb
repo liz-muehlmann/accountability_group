{
 "cells": [
  {
   "cell_type": "markdown",
   "metadata": {},
   "source": [
    "# Udemy: Statistics for Data Analysis Using Python"
   ]
  },
  {
   "cell_type": "markdown",
   "metadata": {},
   "source": [
    "## Section 1"
   ]
  },
  {
   "cell_type": "markdown",
   "metadata": {},
   "source": [
    "### Basic Mathematical Functions\n",
    "import module-name  \n",
    "module.function \n",
    "* e.g. math.comb\n",
    "    * comb = combination\n",
    "    * math.comb(5,3) = 10\n",
    "        * number of ways to choose 3 items from 5 without repetition and without order\n",
    "* e.g. math.perm\n",
    "    * perm = permutation\n",
    "    * math.com(5,3) = 60\n",
    "        * number of ways to choose 3 items from 5 without repetition and with order"
   ]
  },
  {
   "cell_type": "code",
   "execution_count": 34,
   "metadata": {},
   "outputs": [
    {
     "data": {
      "text/plain": [
       "10"
      ]
     },
     "execution_count": 34,
     "metadata": {},
     "output_type": "execute_result"
    }
   ],
   "source": [
    "import math\n",
    "math.pow(5,2) # five to the power of two\n",
    "math.sqrt(25) # square root of 25\n",
    "math.factorial(5) # 5x4x3x2x1 = factorial\n",
    "math.comb(5,3) # number of ways to choose 3 items from 5 without repetition and without order"
   ]
  },
  {
   "cell_type": "markdown",
   "metadata": {},
   "source": [
    "### Variables\n",
    "* don't used reserved words for variable names\n",
    "    * e.g., avoid using print as a variable\n",
    "* variable-name = value\n",
    "* type: tells us the type of variable it is.\n",
    "    * int = integer = whole number\n",
    "    * float = decimal\n",
    "    * str = string = text\n",
    "        * if you want to have quotations within the string then you can surround it with double quotes (e.g. \"Liz's School\")"
   ]
  },
  {
   "cell_type": "code",
   "execution_count": 35,
   "metadata": {},
   "outputs": [
    {
     "data": {
      "text/plain": [
       "str"
      ]
     },
     "execution_count": 35,
     "metadata": {},
     "output_type": "execute_result"
    }
   ],
   "source": [
    "## variables\n",
    "a = 2 # define variable\n",
    "b = 3 \n",
    "a+b \n",
    "\n",
    "type(a) # find the type of variable of a \n",
    "\n",
    "\n",
    "Elizabeth = \"zabes\"\n",
    "type(Elizabeth)"
   ]
  },
  {
   "cell_type": "markdown",
   "metadata": {},
   "source": [
    "### Lists\n",
    "* created by placing multiple values within square brackets\n",
    "    * e.g. a = [1, 2, 3]\n",
    "    * can include mixed data types\n",
    "    * can also include other lists\n",
    "\n",
    "* can pull out items from a list using index\n",
    "    * python lists are 0 indexed. \n",
    "    * first item is 0\n",
    "    * a[0:2] first number is INCLUDED, second number is EXCLUDED\n",
    "    * -1 will return the last item\n",
    "    * can use two indices to read from nested lists.\n",
    "\n",
    "* To replace a value, use the index location and then set it using an equal sign\n",
    "* To add a new value use .append(value-to-append)\n",
    "* To remove the last item use .pop (default is last item)\n",
    "    * use index number inside the parenthesis to remove that item.\n",
    "\n",
    "* .count will return the number of elements in the list.\n",
    "\n",
    "* determine if a value is in a list by using the *in* operator\n",
    "* range(include, exclude, by)"
   ]
  },
  {
   "cell_type": "code",
   "execution_count": 36,
   "metadata": {},
   "outputs": [
    {
     "name": "stdout",
     "output_type": "stream",
     "text": [
      "[1, 2, 3]\n",
      "[1, 'Liz', 'Abed']\n",
      "[[1, 2, 3], ['good', 'better', 'best']]\n",
      "[10, 2, 3]\n",
      "[10, 2, 3, 'new']\n",
      "[10, 2, 3]\n",
      "new\n"
     ]
    },
    {
     "data": {
      "text/plain": [
       "[5, 10, 15, 20, 25, 30, 35, 40, 45, 50, 55, 60, 65, 70, 75, 80, 85, 90, 95]"
      ]
     },
     "execution_count": 36,
     "metadata": {},
     "output_type": "execute_result"
    }
   ],
   "source": [
    "## Lists\n",
    "a = [1, 2, 3]\n",
    "print(a)\n",
    "type(a)\n",
    "\n",
    "mixed_list = [1, \"Liz\", 'Abed']\n",
    "print(mixed_list)\n",
    "type(mixed_list)\n",
    "\n",
    "List_List = [[1,2,3], [\"good\", \"better\", \"best\"]]\n",
    "print(List_List)\n",
    "\n",
    "List_List[1] # return second item\n",
    "mixed_list[0:2] # include item 1, exclude item 3\n",
    "mixed_list[-1] # will return last item in list\n",
    "List_List[1][1] # select the second list, second item\n",
    "\n",
    "a[0] = 10 # change first number in list to 10\n",
    "print(a)\n",
    "\n",
    "a.append(\"new\") # add new value to a list.\n",
    "print(a)\n",
    "\n",
    "b = a.pop() # remove the last number\n",
    "print(a)\n",
    "print(b)\n",
    "\n",
    "a.pop(0) # pop out / remove the first value.\n",
    "a.count(2) # count how many 2s are in this list\n",
    "\n",
    "mylist = list(range(5)) # can a list from a range object\n",
    "\n",
    "20 in mylist # is 20 in mylist \n",
    "\n",
    "my_list = list(range(5,100,5)) # count up by fives; including 5, excluding 100\n",
    "my_list"
   ]
  },
  {
   "cell_type": "markdown",
   "metadata": {},
   "source": [
    "### Dictionaries\n",
    "\n",
    "* form of data structure\n",
    "    * List, Dictionary, Tuple, or Set\n",
    "\n",
    "* dictionaries use key:value pairs\n",
    "    * e.g. my_dict = {'key1':'value1', 'key2':'value2'}\n",
    "    * Can search for specific key using square brackets\n",
    "        * new_dict[\"key to search for\"]\n",
    "    * Dictionaries *do not* have a sequence, you have to know the key that you're looking for.\n",
    "    * can view all keys using dictionary_name.keys\n",
    "    * can use my_dict.items() to get values. But they won't be sequenced!!\n",
    "    * to pop something, you have to give it the key"
   ]
  },
  {
   "cell_type": "code",
   "execution_count": 37,
   "metadata": {},
   "outputs": [
    {
     "data": {
      "text/plain": [
       "{'Day': 'Tuesday'}"
      ]
     },
     "execution_count": 37,
     "metadata": {},
     "output_type": "execute_result"
    }
   ],
   "source": [
    "## Dictionaries\n",
    "\n",
    "new_dict = {\"Country\":\"United States\", \"Day\":\"Tuesday\"} # create dictionary\n",
    "new_dict[\"Country\"] # search for specific key\n",
    "new_dict.keys() # view all keys\n",
    "new_dict.items() # view all items\n",
    "new_dict.pop(\"Country\") # pop using a key and will remove the key:value pair\n",
    "new_dict"
   ]
  },
  {
   "cell_type": "markdown",
   "metadata": {},
   "source": [
    "### Tuples\n",
    "* Tuples use ()\n",
    "* can use indexing with square brackets\n",
    "* immutable; can't change values inside tuples.\n",
    "    * Can't add, append, or modify it in anyway."
   ]
  },
  {
   "cell_type": "code",
   "execution_count": 38,
   "metadata": {},
   "outputs": [
    {
     "data": {
      "text/plain": [
       "1"
      ]
     },
     "execution_count": 38,
     "metadata": {},
     "output_type": "execute_result"
    }
   ],
   "source": [
    "## Tuples\n",
    "\n",
    "a_tuple = (1,2,3) # define a tuple\n",
    "type(a_tuple) \n",
    "a_tuple[0] # get the value in tuple position "
   ]
  },
  {
   "cell_type": "markdown",
   "metadata": {},
   "source": [
    "### Sets\n",
    "* uses curly braces\n",
    "* unordered and unique elements only"
   ]
  },
  {
   "cell_type": "code",
   "execution_count": 39,
   "metadata": {},
   "outputs": [
    {
     "data": {
      "text/plain": [
       "{1, 2, 3, 4}"
      ]
     },
     "execution_count": 39,
     "metadata": {},
     "output_type": "execute_result"
    }
   ],
   "source": [
    "## sets\n",
    "\n",
    "a_set = {1,2,3,4}\n",
    "type(a_set)\n",
    "b_set = {1,1,2,3,4,1,2}\n",
    "b_set # will only show the unique values!"
   ]
  },
  {
   "cell_type": "markdown",
   "metadata": {},
   "source": [
    "### Logical Operators\n",
    "* == strict equality\n",
    "* != not equal\n",
    "* \\> greater than\n",
    "* < less than\n",
    "* \\>= greater than or equal\n",
    "* <= less than or equal"
   ]
  },
  {
   "cell_type": "markdown",
   "metadata": {},
   "source": [
    "## Section 2: Descriptive Statistics"
   ]
  },
  {
   "cell_type": "markdown",
   "metadata": {},
   "source": [
    "### Central Tendency\n",
    "* Descriptive\n",
    "    * Helps us to understand the data we have. \n",
    "    * Measurement of Central Tendency (average)\n",
    "        * Mean, Median, Mode\n",
    "    * Measurement of Dispersion (how spread out the data is)\n",
    "        * Range, Standard Deviation, Variance, Inter-Quartile Range\n",
    "    * Mean\n",
    "        * Average\n",
    "        * Mean of 104, 98, 90, 104, 104\n",
    "            * add the numbers, divide by the number of items\n",
    "        * (104+98+90+104+104)/5 = 100\n",
    "        * $\\bar{x}$ = $\\frac{\\sum x}{n}$\n",
    "        * affected by extreme values.\n",
    "            * eg. if one value was 1,040 it will affect the overall average. \n",
    "    \n",
    "    * Median\n",
    "        * Middle value when organized increasing or decreasing value\n",
    "        * median of 104, 98, 90, 104, 104\n",
    "        * 90, 98, **104**, 104, 104\n",
    "        * not affected by extreme values.\n",
    "\n",
    "    * Mode\n",
    "        * Number that occurs most frequently."
   ]
  },
  {
   "cell_type": "markdown",
   "metadata": {},
   "source": [
    "### Dispersion\n",
    "* Range\n",
    "    * Highest value minus lowest value\n",
    "    * 104, 90, 90, 85, 104, 104\n",
    "    * 104-85 = 19\n",
    "    * Tells how spread out the data is\n",
    "    * Affected by outliers\n",
    "\n",
    "* Variance & Standard Deviation\n",
    "    * Find the average (100)\n",
    "    * How far each number is from the mean\n",
    "        * 4, -2, -10, 4, 4\n",
    "    * Take the square of the distance from the mean\n",
    "        * 16, 4, 100, 16, 16\n",
    "    * Take the mean of the squares\n",
    "        * (16+4+100+16+16)/ 5 = 30.4 (Variance)\n",
    "    * Square Root of the variance is the Standard Deviation\n",
    "        * $\\sqrt{30.4}$ = 5.51 (Standard Deviation)\n",
    "    * Sample Standard Deviation\n",
    "        * $s=\\sqrt\\frac{\\sum(x-\\bar{x})^2}{n-1}$\n",
    "        * this is used to predict the standard deviation of the whole population based on the sample. \n",
    "        * $\\bar{x}$ = Mean\n",
    "        * $x-\\bar{x}$ = Distance from mean\n",
    "        * $(x-\\bar{x})^2$ = Square the means\n",
    "        * $n-1$ = Average of squared means \n",
    "    * Population Standard Deviation\n",
    "        * $\\sigma=\\sqrt\\frac{\\sum(x-\\bar{x})^2}{N}$\n",
    "    * Sample Variance\n",
    "        * $s^2$\n",
    "    * Population Variance\n",
    "        * $\\sigma^2$\n",
    "\n",
    "* Inter Quartile Range\n",
    "    * Divides the data into four parts (three splits)\n",
    "    * 70, 85, 90, 98, 104, 105, 107\n",
    "        * Q1 = 85, Q2 = 98 (also median), Q3= 105\n",
    "    * most commonly shown using box and whisker plot.\n",
    "\n",
    "* Quantile\n",
    "    * Divides the data into $n$ parts with $n-1$ splits\n",
    "    * Can separate by 10 (decile), by 100 (percentile), or by 4 (quartile)"
   ]
  },
  {
   "cell_type": "code",
   "execution_count": 25,
   "metadata": {},
   "outputs": [
    {
     "data": {
      "text/plain": [
       "<Axes: >"
      ]
     },
     "execution_count": 25,
     "metadata": {},
     "output_type": "execute_result"
    },
    {
     "data": {
      "image/png": "[encoded data removed]",
      "text/plain": [
       "<Figure size 640x480 with 1 Axes>"
      ]
     },
     "metadata": {},
     "output_type": "display_data"
    }
   ],
   "source": [
    "## descriptive statistics\n",
    "\n",
    "a  = [1, 2, 3, 3] # define list\n",
    "sum(a) # get the sum of the values\n",
    "len(a) # get the length of the value\n",
    "a.count(3) # count how often 3 appears\n",
    "a_mean = sum(a)/len(a) # mean\n",
    "\n",
    "## central tendency\n",
    "import statistics # import statistics package\n",
    "statistics.mean(a) # use the statistics package to get the mean\n",
    "statistics.median(a) # use the statistics package to get the median\n",
    "statistics.mode(a) # use the statistics package to get the mode\n",
    "\n",
    "## dispersion\n",
    "max(a)-min(a) # range\n",
    "statistics.stdev(a) # sample standard deviation\n",
    "statistics.variance(a) # variance\n",
    "\n",
    "b = statistics.quantiles(a) # by default it's quartiles\n",
    "b[2]-b[0] # inter-quartile range\n",
    "\n",
    "c = [70, 85, 90, 98, 104, 105, 107]\n",
    "q = statistics.quantiles(c)\n",
    "q[2]-q[0] # inter-quartile range\n",
    "\n",
    "## make box and whisker plot\n",
    "import matplotlib.pyplot as plt \n",
    "import seaborn as sns\n",
    "\n",
    "sns.boxplot(c)\n"
   ]
  },
  {
   "cell_type": "markdown",
   "metadata": {},
   "source": [
    "\n",
    "* Inferential (Hypothesis Testing)\n",
    "    * predicting \n",
    "    * based on the sample we have we infer other things\n"
   ]
  },
  {
   "cell_type": "markdown",
   "metadata": {},
   "source": [
    "## Section 3: NumPy, Probability, and SciPy"
   ]
  },
  {
   "cell_type": "markdown",
   "metadata": {},
   "source": [
    "* Numpy is a package that you can import into python\n",
    "    * allows us to have a n dimensional ray\n",
    "        * 1 (list)\n",
    "        * 2 (matrix) which is what is usual. \n",
    "            * all data must be of the same type.\n",
    "    * Can generate random numbers.\n",
    "    * Can also do statistical distributions.\n",
    "\n",
    "* If you change values in a subset of an array, it will change it in the original array.\n",
    "    * You need to create a new array if you don't want the parent array to be changed.\n"
   ]
  },
  {
   "cell_type": "code",
   "execution_count": 22,
   "metadata": {},
   "outputs": [],
   "source": [
    "import numpy as np # import numpy and rename it to np\n",
    "## lists\n",
    "a = [1, 2, 3] # create a list\n",
    "type(a)\n",
    "\n",
    "## arrays\n",
    "b = np.array(a) # convert list to n dimensional array\n",
    "type(b)\n",
    "np.array(range(0,10)) # create an array out of a range of numbers\n",
    "np.arange(0,10) # short cut to making an array out of a range of numbers\n",
    "\n",
    "## linspace (start, stop, num of items)\n",
    "np.linspace(0, 5, 6) # start at 9, up until 5, with six items in between\n",
    "np.linspace(0, 3, 31) # create 31 objects between 0 and 3\n",
    "\n",
    "## two-dimensional arrays\n",
    "c = [[1, 2, 3], [10,20,30]] # create a list of lists\n",
    "np.array(c) # matrix with 2 rows and three columns\n",
    "np.zeros((3,4)) # create a matrix of zeros with three rows and four columns\n",
    "np.ones((3,4)) # create a matrix of ones with three rows and four columns\n",
    "first_thirty = np.linspace(0,29,30) \n",
    "first_thirty.shape # property of first_thirty\n",
    "threeXten = first_thirty.reshape(3,10) # reshape first thirty to have 3 rows and 10 columns"
   ]
  },
  {
   "cell_type": "code",
   "execution_count": 40,
   "metadata": {},
   "outputs": [
    {
     "name": "stdout",
     "output_type": "stream",
     "text": [
      "[[14 15 16 17]\n",
      " [24 25 26 27]]\n"
     ]
    }
   ],
   "source": [
    "## numpy part II | selecting array values\n",
    "first_ten = np.arange(0, 10)\n",
    "first_ten[3] # select 3rd value\n",
    "first_ten[3:5] # select from 3 inclusive, 5exclusive\n",
    "first_ten[:2] # from the beginning up to index 2, exclusive\n",
    "first_ten[6:] # from index 6 to the end\n",
    "threeXten\n",
    "\n",
    "threeXten[1] # return row at index 1 (second row)\n",
    "threeXten[1][5] # select the second row, sixth item\n",
    "threeXten[0:3,1:3] # select the first two columns from all rows\n",
    "\n",
    "tens = np.arange(0,101,10) # make an array starting at 0, ending at 100 (excluding 101), going in steps by 10\n",
    "tens >= 60 # returns true or false based on the condition\n",
    "tens[tens >= 60] # returns array where values are >= 60\n",
    "\n",
    "data = np.arange(1, 41).reshape(4, 10)\n"
   ]
  },
  {
   "cell_type": "code",
   "execution_count": 58,
   "metadata": {},
   "outputs": [
    {
     "data": {
      "text/plain": [
       "array([[4.4, 4.7, 6.4, 6.7, 6.7],\n",
       "       [0.9, 8.3, 2.1, 3.6, 8.7],\n",
       "       [7. , 8.8, 8.8, 1.2, 5.8],\n",
       "       [6.5, 3.9, 8.7, 4.6, 8.8],\n",
       "       [8.1, 3.7, 2.5, 7.7, 7.2]])"
      ]
     },
     "execution_count": 58,
     "metadata": {},
     "output_type": "execute_result"
    }
   ],
   "source": [
    "## numpy part II | array operations\n",
    "first_ten + 10 # adds 10 to each element\n",
    "first_ten - 10 # subtracts 10 from each element\n",
    "first_ten + first_ten \n",
    "first_ten[0] = 10 # replace first element with the number 10\n",
    "first_ten[:] = 10 # replace all elements with the number 10\n",
    "\n",
    "first_ten = np.arange(0,10)\n",
    "first_five = first_ten[0:5] # select first five elements of first_ten\n",
    "first_five[:] = 0 # change all values in first_five to 0\n",
    "first_five # will also change every element in first_ten!\n",
    "first_ten "
   ]
  }
 ],
 "metadata": {
  "kernelspec": {
   "display_name": "Python 3",
   "language": "python",
   "name": "python3"
  },
  "language_info": {
   "codemirror_mode": {
    "name": "ipython",
    "version": 3
   },
   "file_extension": ".py",
   "mimetype": "text/x-python",
   "name": "python",
   "nbconvert_exporter": "python",
   "pygments_lexer": "ipython3",
   "version": "3.11.3"
  },
  "orig_nbformat": 4
 },
 "nbformat": 4,
 "nbformat_minor": 2
}

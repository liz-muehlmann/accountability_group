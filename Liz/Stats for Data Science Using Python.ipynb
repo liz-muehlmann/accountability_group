{
 "cells": [
  {
   "cell_type": "markdown",
   "metadata": {},
   "source": [
    "## Udemy: Statistics for Data Analysis Using Python\n",
    "\n",
    "### Basic Mathematical Functions\n",
    "import module-name  \n",
    "module.function \n",
    "* e.g. math.comb\n",
    "    * comb = combination\n",
    "    * math.comb(5,3) = 10\n",
    "        * number of ways to choose 3 items from 5 without repetition and without order\n",
    "* e.g. math.perm\n",
    "    * perm = permutation\n",
    "    * math.com(5,3) = 60\n",
    "        * number of ways to choose 3 items from 5 without repetition and with order\n"
   ]
  },
  {
   "cell_type": "code",
   "execution_count": 6,
   "metadata": {},
   "outputs": [
    {
     "data": {
      "text/plain": [
       "120"
      ]
     },
     "execution_count": 6,
     "metadata": {},
     "output_type": "execute_result"
    }
   ],
   "source": [
    "import math\n",
    "math.pow(5,2) # five to the power of two\n",
    "math.sqrt(25) # square root of 25\n",
    "math.factorial(5) # 5x4x3x2x1 = factorial\n",
    "math.comb(5,3) # number of ways to choose 3 items from 5 without repetition and without order"
   ]
  },
  {
   "cell_type": "markdown",
   "metadata": {},
   "source": [
    "### Variables\n",
    "* don't used reserved words for variable names\n",
    "    * e.g., avoid using print as a variable\n",
    "* variable-name = value\n",
    "* type: tells us the type of variable it is.\n",
    "    * int = integer = whole number\n",
    "    * float = decimal\n",
    "    * str = string = text\n",
    "        * if you want to have quotations within the string then you can surround it with double quotes (e.g. \"Liz's School\")"
   ]
  },
  {
   "cell_type": "code",
   "execution_count": 9,
   "metadata": {},
   "outputs": [
    {
     "data": {
      "text/plain": [
       "str"
      ]
     },
     "execution_count": 9,
     "metadata": {},
     "output_type": "execute_result"
    }
   ],
   "source": [
    "a = 2 # define variable\n",
    "b = 3 \n",
    "a+b \n",
    "\n",
    "type(a) # find the type of variable of a \n",
    "\n",
    "\n",
    "Elizabeth = \"zabes\"\n",
    "type(Elizabeth)"
   ]
  },
  {
   "cell_type": "markdown",
   "metadata": {},
   "source": [
    "### Lists\n",
    "* created by placing multiple values within square brackets\n",
    "    * e.g. a = [1, 2, 3]\n",
    "    * can include mixed data types\n",
    "    * can also include other lists\n",
    "\n",
    "* can pull out items from a list using index\n",
    "    * python lists are 0 indexed. \n",
    "    * first item is 0\n",
    "    * a[0:2] first number is INCLUDED, second number is EXCLUDED\n",
    "    * -1 will return the last item\n",
    "    * can use two indices to read from nested lists.\n",
    "\n",
    "* To replace a value, use the index location and then set it using an equal sign\n",
    "* To add a new value use .append(value-to-append)\n",
    "* To remove the last item use .pop (default is last item)\n",
    "    * use index number inside the parenthesis to remove that item.\n",
    "\n",
    "* .count will return the number of elements in the list."
   ]
  },
  {
   "cell_type": "code",
   "execution_count": 30,
   "metadata": {},
   "outputs": [
    {
     "name": "stdout",
     "output_type": "stream",
     "text": [
      "[1, 2, 3]\n",
      "[1, 'Liz', 'abed']\n",
      "[[1, 2, 3], ['good', 'better', 'best']]\n",
      "[10, 2, 3]\n",
      "[10, 2, 3, 'new']\n",
      "[10, 2, 3]\n",
      "new\n"
     ]
    },
    {
     "data": {
      "text/plain": [
       "1"
      ]
     },
     "execution_count": 30,
     "metadata": {},
     "output_type": "execute_result"
    }
   ],
   "source": [
    "a = [1, 2, 3]\n",
    "print(a)\n",
    "type(a)\n",
    "\n",
    "mixed_list = [1, \"Liz\", 'abed']\n",
    "print(mixed_list)\n",
    "type(mixed_list)\n",
    "\n",
    "List_List = [[1,2,3], [\"good\", \"better\", \"best\"]]\n",
    "print(List_List)\n",
    "\n",
    "List_List[1] # return second item\n",
    "mixed_list[0:2] # include item 1, exclude item 3\n",
    "mixed_list[-1] # will return last item in list\n",
    "List_List[1][1] # select the second list, second item\n",
    "\n",
    "a[0] = 10 # change first number in list to 10\n",
    "print(a)\n",
    "\n",
    "a.append(\"new\") # add new value to a list.\n",
    "print(a)\n",
    "\n",
    "b = a.pop() # remove the last number\n",
    "print(a)\n",
    "print(b)\n",
    "\n",
    "a.pop(0) # pop out / remove the first value.\n",
    "a.count(2) # count how many 2s are in this list"
   ]
  }
 ],
 "metadata": {
  "kernelspec": {
   "display_name": "Python 3",
   "language": "python",
   "name": "python3"
  },
  "language_info": {
   "codemirror_mode": {
    "name": "ipython",
    "version": 3
   },
   "file_extension": ".py",
   "mimetype": "text/x-python",
   "name": "python",
   "nbconvert_exporter": "python",
   "pygments_lexer": "ipython3",
   "version": "3.11.4"
  },
  "orig_nbformat": 4
 },
 "nbformat": 4,
 "nbformat_minor": 2
}
